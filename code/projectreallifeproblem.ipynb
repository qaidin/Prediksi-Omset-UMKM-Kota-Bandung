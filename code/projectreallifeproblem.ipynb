{
  "nbformat": 4,
  "nbformat_minor": 0,
  "metadata": {
    "colab": {
      "name": "projectreallifeproblem",
      "version": "0.3.2",
      "provenance": [],
      "collapsed_sections": []
    },
    "kernelspec": {
      "name": "python3",
      "display_name": "Python 3"
    },
    "accelerator": "GPU"
  },
  "cells": [
    {
      "cell_type": "markdown",
      "metadata": {
        "id": "9NbIhcnhgK2S",
        "colab_type": "text"
      },
      "source": [
        "**IMPORT DATA AND LIBRARY YOU NEEDED**"
      ]
    },
    {
      "cell_type": "code",
      "metadata": {
        "id": "tau215438Uy7",
        "colab_type": "code",
        "colab": {}
      },
      "source": [
        "import pandas as pd\n",
        "import numpy as np\n",
        "\n",
        "url = '/content/drive/My Drive/DATASET UMKM KOTA BANDUNG 2018/datasetumkmbandung.csv'\n",
        "df = pd.read_csv(url,usecols=[0,1,2,3,4,5])\n",
        "\n"
      ],
      "execution_count": 0,
      "outputs": []
    },
    {
      "cell_type": "code",
      "metadata": {
        "id": "1YdCH7EZqTaB",
        "colab_type": "code",
        "outputId": "b5309b1f-aadc-44c5-c121-fd6f010083e8",
        "colab": {
          "base_uri": "https://localhost:8080/",
          "height": 121
        }
      },
      "source": [
        "from google.colab import drive\n",
        "drive.mount('/content/drive')"
      ],
      "execution_count": 2,
      "outputs": [
        {
          "output_type": "stream",
          "text": [
            "Go to this URL in a browser: https://accounts.google.com/o/oauth2/auth?client_id=947318989803-6bn6qk8qdgf4n4g3pfee6491hc0brc4i.apps.googleusercontent.com&redirect_uri=urn%3Aietf%3Awg%3Aoauth%3A2.0%3Aoob&scope=email%20https%3A%2F%2Fwww.googleapis.com%2Fauth%2Fdocs.test%20https%3A%2F%2Fwww.googleapis.com%2Fauth%2Fdrive%20https%3A%2F%2Fwww.googleapis.com%2Fauth%2Fdrive.photos.readonly%20https%3A%2F%2Fwww.googleapis.com%2Fauth%2Fpeopleapi.readonly&response_type=code\n",
            "\n",
            "Enter your authorization code:\n",
            "··········\n",
            "Mounted at /content/drive\n"
          ],
          "name": "stdout"
        }
      ]
    },
    {
      "cell_type": "markdown",
      "metadata": {
        "id": "ofdL14S9gVUt",
        "colab_type": "text"
      },
      "source": [
        "**JUST FOR OVERVIEW THE DATA**"
      ]
    },
    {
      "cell_type": "code",
      "metadata": {
        "id": "lbnUa1YNFm6W",
        "colab_type": "code",
        "outputId": "c46edab7-160f-4eeb-e6aa-ec6036bb7c75",
        "colab": {
          "base_uri": "https://localhost:8080/",
          "height": 195
        }
      },
      "source": [
        "df.tail()"
      ],
      "execution_count": 20,
      "outputs": [
        {
          "output_type": "execute_result",
          "data": {
            "text/html": [
              "<div>\n",
              "<style scoped>\n",
              "    .dataframe tbody tr th:only-of-type {\n",
              "        vertical-align: middle;\n",
              "    }\n",
              "\n",
              "    .dataframe tbody tr th {\n",
              "        vertical-align: top;\n",
              "    }\n",
              "\n",
              "    .dataframe thead th {\n",
              "        text-align: right;\n",
              "    }\n",
              "</style>\n",
              "<table border=\"1\" class=\"dataframe\">\n",
              "  <thead>\n",
              "    <tr style=\"text-align: right;\">\n",
              "      <th></th>\n",
              "      <th>Kecamatan</th>\n",
              "      <th>Jumlah Karyawan</th>\n",
              "      <th>Aset</th>\n",
              "      <th>Omset</th>\n",
              "      <th>Tahun Berdiri</th>\n",
              "      <th>Keterangan</th>\n",
              "    </tr>\n",
              "  </thead>\n",
              "  <tbody>\n",
              "    <tr>\n",
              "      <th>5214</th>\n",
              "      <td>Ujungberung</td>\n",
              "      <td>-</td>\n",
              "      <td>-</td>\n",
              "      <td>120000000</td>\n",
              "      <td>2016</td>\n",
              "      <td>-</td>\n",
              "    </tr>\n",
              "    <tr>\n",
              "      <th>5215</th>\n",
              "      <td>Ujungberung</td>\n",
              "      <td>-</td>\n",
              "      <td>-</td>\n",
              "      <td>-</td>\n",
              "      <td>2016</td>\n",
              "      <td>-</td>\n",
              "    </tr>\n",
              "    <tr>\n",
              "      <th>5216</th>\n",
              "      <td>Ujungberung</td>\n",
              "      <td>2</td>\n",
              "      <td>5000000</td>\n",
              "      <td>40000000</td>\n",
              "      <td>2013</td>\n",
              "      <td>-</td>\n",
              "    </tr>\n",
              "    <tr>\n",
              "      <th>5217</th>\n",
              "      <td>Ujungberung</td>\n",
              "      <td>-</td>\n",
              "      <td>-</td>\n",
              "      <td>-</td>\n",
              "      <td>-</td>\n",
              "      <td>-</td>\n",
              "    </tr>\n",
              "    <tr>\n",
              "      <th>5218</th>\n",
              "      <td>Ujungberung</td>\n",
              "      <td>-</td>\n",
              "      <td>-</td>\n",
              "      <td>-</td>\n",
              "      <td>-</td>\n",
              "      <td>-\u001a</td>\n",
              "    </tr>\n",
              "  </tbody>\n",
              "</table>\n",
              "</div>"
            ],
            "text/plain": [
              "        Kecamatan Jumlah Karyawan     Aset      Omset Tahun Berdiri Keterangan\n",
              "5214  Ujungberung               -        -  120000000          2016          -\n",
              "5215  Ujungberung               -        -          -          2016          -\n",
              "5216  Ujungberung               2  5000000   40000000          2013          -\n",
              "5217  Ujungberung               -        -          -             -          -\n",
              "5218  Ujungberung               -        -          -             -         -\u001a"
            ]
          },
          "metadata": {
            "tags": []
          },
          "execution_count": 20
        }
      ]
    },
    {
      "cell_type": "markdown",
      "metadata": {
        "id": "WrGwg17agfDK",
        "colab_type": "text"
      },
      "source": [
        "**START TO TAKE A LOOK FOR UNEXPECTED ERROR DATA TYPE VALUE**\n",
        "\n",
        "> replace '-' character with nan value\n",
        "\n",
        "> it looks like every column has that unexpected character\n",
        "\n",
        "> lets do some replace\n",
        "\n",
        "\n",
        "\n",
        "\n",
        "\n"
      ]
    },
    {
      "cell_type": "code",
      "metadata": {
        "id": "Lbnv66cIRCWe",
        "colab_type": "code",
        "colab": {}
      },
      "source": [
        "df['Jumlah Karyawan'].replace('-',np.nan,inplace=True)"
      ],
      "execution_count": 0,
      "outputs": []
    },
    {
      "cell_type": "code",
      "metadata": {
        "id": "RDYfhdMQxhdN",
        "colab_type": "code",
        "colab": {}
      },
      "source": [
        "df['Aset'].replace('-',np.nan,inplace=True)\n"
      ],
      "execution_count": 0,
      "outputs": []
    },
    {
      "cell_type": "code",
      "metadata": {
        "id": "ZEYR3A3W1w8v",
        "colab_type": "code",
        "colab": {}
      },
      "source": [
        "df['Omset'].replace('-',np.nan,inplace=True)\n"
      ],
      "execution_count": 0,
      "outputs": []
    },
    {
      "cell_type": "code",
      "metadata": {
        "id": "xebh4lmd1yYF",
        "colab_type": "code",
        "colab": {}
      },
      "source": [
        "df['Tahun Berdiri'].replace('-',np.nan,inplace=True)\n"
      ],
      "execution_count": 0,
      "outputs": []
    },
    {
      "cell_type": "code",
      "metadata": {
        "id": "EVFdAscR1zmj",
        "colab_type": "code",
        "colab": {}
      },
      "source": [
        "df['Keterangan'].replace('-',np.nan,inplace=True)"
      ],
      "execution_count": 0,
      "outputs": []
    },
    {
      "cell_type": "markdown",
      "metadata": {
        "id": "XQx7y_zghT1V",
        "colab_type": "text"
      },
      "source": [
        "**DROP ANY VALUES WHO HAS NAN VALUE**\n",
        "\n",
        "> **Why we do that ?**\n",
        "\n",
        "1.   we are not going to fill  the NAN values with any method, because it will affect the authenticity of the data,  on the other hand there's 2000 rows nan value on  'Jumlah Karyawan' column **so what do you expected ?** fill that with mean ? nope. better drop it \n",
        "   \n",
        "\n",
        "\n",
        "\n"
      ]
    },
    {
      "cell_type": "code",
      "metadata": {
        "id": "xzSW2mhl3mlf",
        "colab_type": "code",
        "colab": {}
      },
      "source": [
        "df.dropna(how='any', inplace=True)"
      ],
      "execution_count": 0,
      "outputs": []
    },
    {
      "cell_type": "markdown",
      "metadata": {
        "id": "v2uLC2CkjOj4",
        "colab_type": "text"
      },
      "source": [
        "**NOW WE GOT CLEAN DATA WITHOUT NULL VALUE**"
      ]
    },
    {
      "cell_type": "code",
      "metadata": {
        "id": "Jk1M5hOJ3TIj",
        "colab_type": "code",
        "outputId": "37fe6528-28a8-4391-99e0-6c25bbf3eae3",
        "colab": {
          "base_uri": "https://localhost:8080/",
          "height": 134
        }
      },
      "source": [
        "df.isnull().sum()"
      ],
      "execution_count": 59,
      "outputs": [
        {
          "output_type": "execute_result",
          "data": {
            "text/plain": [
              "Kecamatan          0\n",
              "Jumlah Karyawan    0\n",
              "Aset               0\n",
              "Omset              0\n",
              "Tahun Berdiri      0\n",
              "Keterangan         0\n",
              "dtype: int64"
            ]
          },
          "metadata": {
            "tags": []
          },
          "execution_count": 59
        }
      ]
    },
    {
      "cell_type": "code",
      "metadata": {
        "id": "bbDXtgjczPFQ",
        "colab_type": "code",
        "outputId": "096bd2ca-f183-496d-c4c8-d3d9bb31b814",
        "colab": {
          "base_uri": "https://localhost:8080/",
          "height": 202
        }
      },
      "source": [
        "df.info()"
      ],
      "execution_count": 60,
      "outputs": [
        {
          "output_type": "stream",
          "text": [
            "<class 'pandas.core.frame.DataFrame'>\n",
            "Int64Index: 2366 entries, 0 to 5204\n",
            "Data columns (total 6 columns):\n",
            "Kecamatan          2366 non-null object\n",
            "Jumlah Karyawan    2366 non-null object\n",
            "Aset               2366 non-null object\n",
            "Omset              2366 non-null object\n",
            "Tahun Berdiri      2366 non-null object\n",
            "Keterangan         2366 non-null object\n",
            "dtypes: object(6)\n",
            "memory usage: 129.4+ KB\n"
          ],
          "name": "stdout"
        }
      ]
    },
    {
      "cell_type": "markdown",
      "metadata": {
        "id": "d0bGbj1xjYAL",
        "colab_type": "text"
      },
      "source": [
        "**FEATURE ENGINEERING IS NOT FINISH YET**\n",
        "\n",
        "1.   we cannot convert data types string to int with unexpected character\n",
        "2.   ','  '_' '.' are the problem so lets do some replace function again \n",
        "\n"
      ]
    },
    {
      "cell_type": "code",
      "metadata": {
        "id": "2yc1ZZRG8rIi",
        "colab_type": "code",
        "colab": {}
      },
      "source": [
        "df['Aset'] = df['Aset'].str.replace(',','')\n",
        "df['Aset'] = df['Aset'].str.replace('.','')\n"
      ],
      "execution_count": 0,
      "outputs": []
    },
    {
      "cell_type": "code",
      "metadata": {
        "id": "JW-NIs5nGGRH",
        "colab_type": "code",
        "colab": {}
      },
      "source": [
        "df['Omset'] = df['Omset'].str.replace(',','')\n",
        "df['Omset'] = df['Omset'].str.replace('.','')"
      ],
      "execution_count": 0,
      "outputs": []
    },
    {
      "cell_type": "code",
      "metadata": {
        "colab_type": "code",
        "id": "93SSlR_ZssFB",
        "colab": {}
      },
      "source": [
        "df['Tahun Berdiri'] = df['Tahun Berdiri'].str.replace('35 Tahun','1983')"
      ],
      "execution_count": 0,
      "outputs": []
    },
    {
      "cell_type": "code",
      "metadata": {
        "id": "evHGKD6W3VcT",
        "colab_type": "code",
        "colab": {}
      },
      "source": [
        "df['Tahun Berdiri'] = df['Tahun Berdiri'].str.replace('_','1990')"
      ],
      "execution_count": 0,
      "outputs": []
    },
    {
      "cell_type": "markdown",
      "metadata": {
        "id": "I6NJUZ7dkUdj",
        "colab_type": "text"
      },
      "source": [
        "**AND FINALLY CONVERT STR/OBJECT TO INT OR FLOAT**"
      ]
    },
    {
      "cell_type": "code",
      "metadata": {
        "id": "qXlEPZxS2_2t",
        "colab_type": "code",
        "colab": {}
      },
      "source": [
        "df['Tahun Berdiri'] = df['Tahun Berdiri'].astype(int)"
      ],
      "execution_count": 0,
      "outputs": []
    },
    {
      "cell_type": "code",
      "metadata": {
        "id": "TTkHos6Gvl6E",
        "colab_type": "code",
        "colab": {}
      },
      "source": [
        "for ind,row in df.iterrows():\n",
        "  df.loc[ind,'Lama Berdiri(Tahun)'] = 2019 - row['Tahun Berdiri'] "
      ],
      "execution_count": 0,
      "outputs": []
    },
    {
      "cell_type": "code",
      "metadata": {
        "id": "rMHcbmSmGOI6",
        "colab_type": "code",
        "colab": {}
      },
      "source": [
        "df['Omset']=df['Omset'].astype(float)\n",
        "df['Aset']=df['Aset'].astype(float)\n",
        "df['Jumlah Karyawan']=df['Jumlah Karyawan'].astype(int)\n",
        "\n"
      ],
      "execution_count": 0,
      "outputs": []
    },
    {
      "cell_type": "code",
      "metadata": {
        "id": "E0TJzgl00rWp",
        "colab_type": "code",
        "colab": {}
      },
      "source": [
        "df.drop('Tahun Berdiri',axis = 1,inplace=True)"
      ],
      "execution_count": 0,
      "outputs": []
    },
    {
      "cell_type": "code",
      "metadata": {
        "id": "KGFRJecg0e0z",
        "colab_type": "code",
        "outputId": "a30db86d-6f08-41d9-f1d9-f1b30301c8ea",
        "colab": {
          "base_uri": "https://localhost:8080/",
          "height": 195
        }
      },
      "source": [
        "df.head()"
      ],
      "execution_count": 79,
      "outputs": [
        {
          "output_type": "execute_result",
          "data": {
            "text/html": [
              "<div>\n",
              "<style scoped>\n",
              "    .dataframe tbody tr th:only-of-type {\n",
              "        vertical-align: middle;\n",
              "    }\n",
              "\n",
              "    .dataframe tbody tr th {\n",
              "        vertical-align: top;\n",
              "    }\n",
              "\n",
              "    .dataframe thead th {\n",
              "        text-align: right;\n",
              "    }\n",
              "</style>\n",
              "<table border=\"1\" class=\"dataframe\">\n",
              "  <thead>\n",
              "    <tr style=\"text-align: right;\">\n",
              "      <th></th>\n",
              "      <th>Kecamatan</th>\n",
              "      <th>Jumlah Karyawan</th>\n",
              "      <th>Aset</th>\n",
              "      <th>Omset</th>\n",
              "      <th>Lama Berdiri(Tahun)</th>\n",
              "      <th>Kategori Usaha</th>\n",
              "    </tr>\n",
              "  </thead>\n",
              "  <tbody>\n",
              "    <tr>\n",
              "      <th>0</th>\n",
              "      <td>Andir</td>\n",
              "      <td>2</td>\n",
              "      <td>3000000.0</td>\n",
              "      <td>9000000.0</td>\n",
              "      <td>34.0</td>\n",
              "      <td>Mikro</td>\n",
              "    </tr>\n",
              "    <tr>\n",
              "      <th>1</th>\n",
              "      <td>Andir</td>\n",
              "      <td>2</td>\n",
              "      <td>3000000.0</td>\n",
              "      <td>4200000.0</td>\n",
              "      <td>20.0</td>\n",
              "      <td>Mikro</td>\n",
              "    </tr>\n",
              "    <tr>\n",
              "      <th>2</th>\n",
              "      <td>Andir</td>\n",
              "      <td>2</td>\n",
              "      <td>3000000.0</td>\n",
              "      <td>9000000.0</td>\n",
              "      <td>29.0</td>\n",
              "      <td>Mikro</td>\n",
              "    </tr>\n",
              "    <tr>\n",
              "      <th>3</th>\n",
              "      <td>Andir</td>\n",
              "      <td>2</td>\n",
              "      <td>20000000.0</td>\n",
              "      <td>9000000.0</td>\n",
              "      <td>42.0</td>\n",
              "      <td>Mikro</td>\n",
              "    </tr>\n",
              "    <tr>\n",
              "      <th>4</th>\n",
              "      <td>Andir</td>\n",
              "      <td>0</td>\n",
              "      <td>3000000.0</td>\n",
              "      <td>9000000.0</td>\n",
              "      <td>22.0</td>\n",
              "      <td>Mikro</td>\n",
              "    </tr>\n",
              "  </tbody>\n",
              "</table>\n",
              "</div>"
            ],
            "text/plain": [
              "  Kecamatan  Jumlah Karyawan  ...  Lama Berdiri(Tahun)  Kategori Usaha\n",
              "0     Andir                2  ...                 34.0           Mikro\n",
              "1     Andir                2  ...                 20.0           Mikro\n",
              "2     Andir                2  ...                 29.0           Mikro\n",
              "3     Andir                2  ...                 42.0           Mikro\n",
              "4     Andir                0  ...                 22.0           Mikro\n",
              "\n",
              "[5 rows x 6 columns]"
            ]
          },
          "metadata": {
            "tags": []
          },
          "execution_count": 79
        }
      ]
    },
    {
      "cell_type": "code",
      "metadata": {
        "id": "5-KODvzQ45S3",
        "colab_type": "code",
        "outputId": "474221c9-fc64-4551-c72d-3f7fec32f11d",
        "colab": {
          "base_uri": "https://localhost:8080/",
          "height": 202
        }
      },
      "source": [
        "df.info()"
      ],
      "execution_count": 44,
      "outputs": [
        {
          "output_type": "stream",
          "text": [
            "<class 'pandas.core.frame.DataFrame'>\n",
            "Int64Index: 2366 entries, 0 to 5204\n",
            "Data columns (total 6 columns):\n",
            "Kecamatan              2366 non-null object\n",
            "Jumlah Karyawan        2366 non-null int64\n",
            "Aset                   2366 non-null float64\n",
            "Omset                  2366 non-null float64\n",
            "Keterangan             2366 non-null object\n",
            "Lama Berdiri(Tahun)    2366 non-null float64\n",
            "dtypes: float64(3), int64(1), object(2)\n",
            "memory usage: 209.4+ KB\n"
          ],
          "name": "stdout"
        }
      ]
    },
    {
      "cell_type": "markdown",
      "metadata": {
        "id": "_N40O271kork",
        "colab_type": "text"
      },
      "source": [
        "**YOU THINK WE'RE DONE ?, SHAME ON YOU**\n",
        "\n",
        "> **look at this inconcistent data**\n",
        "\n",
        "\n",
        "> **it should be at least 3 chategorical data**\n",
        "\n",
        "1.   Kecil\n",
        "2.   Menengah\n",
        "3.   Mikro\n",
        "\n",
        "> **the question is what am i supposed to do with that ?\n",
        "\n",
        "\n",
        "*   of course do some feature engineering again\n",
        "*   replace Kecil* : Kecil, Mikro*:Mikro, mikro:Mikro, kecil:Kecil, -No:Mikro, MikroNo : Mikro, KecilNo : Kecil, No:Kecil.\n",
        "\n",
        "\n",
        "**whoever input this data, you such a lazy person.**\n",
        "\n",
        "\n",
        "\n",
        "\n",
        "\n",
        "\n",
        "\n",
        "\n",
        "\n",
        "\n",
        "\n",
        "\n",
        "\n",
        "\n"
      ]
    },
    {
      "cell_type": "code",
      "metadata": {
        "id": "Ivzqepzi1RNe",
        "colab_type": "code",
        "outputId": "9fa31978-e31c-43bc-ecdc-a6e4be101366",
        "colab": {
          "base_uri": "https://localhost:8080/",
          "height": 34
        }
      },
      "source": [
        "df['Kategori Usaha'].unique()"
      ],
      "execution_count": 81,
      "outputs": [
        {
          "output_type": "execute_result",
          "data": {
            "text/plain": [
              "array(['Mikro', 'Kecil', 'Menengah'], dtype=object)"
            ]
          },
          "metadata": {
            "tags": []
          },
          "execution_count": 81
        }
      ]
    },
    {
      "cell_type": "code",
      "metadata": {
        "id": "Wx52g9R24jo5",
        "colab_type": "code",
        "colab": {}
      },
      "source": [
        "level_map = {'Kecil':'Kecil','Mikro':'Mikro','Menengah':'Menengah','Kecil*': 'Kecil', 'Mikro*': 'Mikro', 'mikro': 'Mikro', 'kecil':'Kecil','-No':'Kecil','MikroNo':'Mikro','KecilNo':'Kecil','No':'Kecil'}\n",
        "\n",
        "df['Kategori Usaha'] = df['Keterangan'].map(level_map)\n"
      ],
      "execution_count": 0,
      "outputs": []
    },
    {
      "cell_type": "code",
      "metadata": {
        "id": "COwNLbRQ_eZ4",
        "colab_type": "code",
        "colab": {}
      },
      "source": [
        "df.drop('Keterangan',axis=1,inplace=True)"
      ],
      "execution_count": 0,
      "outputs": []
    },
    {
      "cell_type": "code",
      "metadata": {
        "id": "njtWEWcb9pE4",
        "colab_type": "code",
        "colab": {}
      },
      "source": [
        "from sklearn.preprocessing import LabelEncoder\n",
        "from sklearn.preprocessing import OneHotEncoder\n",
        "df = pd.get_dummies(df, columns = ['Kategori Usaha'])\n"
      ],
      "execution_count": 0,
      "outputs": []
    },
    {
      "cell_type": "code",
      "metadata": {
        "id": "ONHkKoOPHEW4",
        "colab_type": "code",
        "colab": {
          "base_uri": "https://localhost:8080/",
          "height": 34
        },
        "outputId": "2ee520dd-2d37-49cf-ff91-7b619ebdbc8e"
      },
      "source": [
        "df.Omset.mean()"
      ],
      "execution_count": 117,
      "outputs": [
        {
          "output_type": "execute_result",
          "data": {
            "text/plain": [
              "90720441.88503803"
            ]
          },
          "metadata": {
            "tags": []
          },
          "execution_count": 117
        }
      ]
    },
    {
      "cell_type": "code",
      "metadata": {
        "id": "XCl21AKuHrGG",
        "colab_type": "code",
        "colab": {
          "base_uri": "https://localhost:8080/",
          "height": 168
        },
        "outputId": "b876a16c-fd4d-4e2c-dd0d-8d0e10093af5"
      },
      "source": [
        "df.isna().sum()"
      ],
      "execution_count": 102,
      "outputs": [
        {
          "output_type": "execute_result",
          "data": {
            "text/plain": [
              "Kecamatan                  0\n",
              "Jumlah Karyawan            0\n",
              "Aset                       0\n",
              "Omset                      0\n",
              "Lama Berdiri(Tahun)        0\n",
              "Kategori Usaha_Kecil       0\n",
              "Kategori Usaha_Menengah    0\n",
              "Kategori Usaha_Mikro       0\n",
              "dtype: int64"
            ]
          },
          "metadata": {
            "tags": []
          },
          "execution_count": 102
        }
      ]
    },
    {
      "cell_type": "code",
      "metadata": {
        "id": "qSW1-dCK-Izh",
        "colab_type": "code",
        "outputId": "37945671-3316-4b00-9da6-c4427a02c327",
        "colab": {
          "base_uri": "https://localhost:8080/",
          "height": 1000
        }
      },
      "source": [
        "import seaborn as sns\n",
        "sns.pairplot(df)"
      ],
      "execution_count": 96,
      "outputs": [
        {
          "output_type": "execute_result",
          "data": {
            "text/plain": [
              "<seaborn.axisgrid.PairGrid at 0x7f7edf152a90>"
            ]
          },
          "metadata": {
            "tags": []
          },
          "execution_count": 96
        },
        {
          "output_type": "display_data",
          "data": {
            "image/png": "[encoded data removed]",
            "text/plain": [
              "<Figure size 1260x1260 with 56 Axes>"
            ]
          },
          "metadata": {
            "tags": []
          }
        }
      ]
    },
    {
      "cell_type": "code",
      "metadata": {
        "id": "-drU7tMfI2Tp",
        "colab_type": "code",
        "outputId": "f46cdd30-229c-490c-bdcc-ebea7fb33fc3",
        "colab": {
          "base_uri": "https://localhost:8080/",
          "height": 338
        }
      },
      "source": [
        "df.corr(method='pearson')"
      ],
      "execution_count": 100,
      "outputs": [
        {
          "output_type": "execute_result",
          "data": {
            "text/html": [
              "<div>\n",
              "<style scoped>\n",
              "    .dataframe tbody tr th:only-of-type {\n",
              "        vertical-align: middle;\n",
              "    }\n",
              "\n",
              "    .dataframe tbody tr th {\n",
              "        vertical-align: top;\n",
              "    }\n",
              "\n",
              "    .dataframe thead th {\n",
              "        text-align: right;\n",
              "    }\n",
              "</style>\n",
              "<table border=\"1\" class=\"dataframe\">\n",
              "  <thead>\n",
              "    <tr style=\"text-align: right;\">\n",
              "      <th></th>\n",
              "      <th>Jumlah Karyawan</th>\n",
              "      <th>Aset</th>\n",
              "      <th>Omset</th>\n",
              "      <th>Lama Berdiri(Tahun)</th>\n",
              "      <th>Kategori Usaha_Kecil</th>\n",
              "      <th>Kategori Usaha_Menengah</th>\n",
              "      <th>Kategori Usaha_Mikro</th>\n",
              "    </tr>\n",
              "  </thead>\n",
              "  <tbody>\n",
              "    <tr>\n",
              "      <th>Jumlah Karyawan</th>\n",
              "      <td>1.000000</td>\n",
              "      <td>0.520551</td>\n",
              "      <td>0.650428</td>\n",
              "      <td>-0.076354</td>\n",
              "      <td>0.260279</td>\n",
              "      <td>0.243455</td>\n",
              "      <td>-0.320860</td>\n",
              "    </tr>\n",
              "    <tr>\n",
              "      <th>Aset</th>\n",
              "      <td>0.520551</td>\n",
              "      <td>1.000000</td>\n",
              "      <td>0.698503</td>\n",
              "      <td>0.012289</td>\n",
              "      <td>0.004451</td>\n",
              "      <td>0.258278</td>\n",
              "      <td>-0.077698</td>\n",
              "    </tr>\n",
              "    <tr>\n",
              "      <th>Omset</th>\n",
              "      <td>0.650428</td>\n",
              "      <td>0.698503</td>\n",
              "      <td>1.000000</td>\n",
              "      <td>-0.048516</td>\n",
              "      <td>0.284008</td>\n",
              "      <td>0.303797</td>\n",
              "      <td>-0.360952</td>\n",
              "    </tr>\n",
              "    <tr>\n",
              "      <th>Lama Berdiri(Tahun)</th>\n",
              "      <td>-0.076354</td>\n",
              "      <td>0.012289</td>\n",
              "      <td>-0.048516</td>\n",
              "      <td>1.000000</td>\n",
              "      <td>-0.041474</td>\n",
              "      <td>0.031194</td>\n",
              "      <td>0.031239</td>\n",
              "    </tr>\n",
              "    <tr>\n",
              "      <th>Kategori Usaha_Kecil</th>\n",
              "      <td>0.260279</td>\n",
              "      <td>0.004451</td>\n",
              "      <td>0.284008</td>\n",
              "      <td>-0.041474</td>\n",
              "      <td>1.000000</td>\n",
              "      <td>-0.028662</td>\n",
              "      <td>-0.958810</td>\n",
              "    </tr>\n",
              "    <tr>\n",
              "      <th>Kategori Usaha_Menengah</th>\n",
              "      <td>0.243455</td>\n",
              "      <td>0.258278</td>\n",
              "      <td>0.303797</td>\n",
              "      <td>0.031194</td>\n",
              "      <td>-0.028662</td>\n",
              "      <td>1.000000</td>\n",
              "      <td>-0.256451</td>\n",
              "    </tr>\n",
              "    <tr>\n",
              "      <th>Kategori Usaha_Mikro</th>\n",
              "      <td>-0.320860</td>\n",
              "      <td>-0.077698</td>\n",
              "      <td>-0.360952</td>\n",
              "      <td>0.031239</td>\n",
              "      <td>-0.958810</td>\n",
              "      <td>-0.256451</td>\n",
              "      <td>1.000000</td>\n",
              "    </tr>\n",
              "  </tbody>\n",
              "</table>\n",
              "</div>"
            ],
            "text/plain": [
              "                         Jumlah Karyawan  ...  Kategori Usaha_Mikro\n",
              "Jumlah Karyawan                 1.000000  ...             -0.320860\n",
              "Aset                            0.520551  ...             -0.077698\n",
              "Omset                           0.650428  ...             -0.360952\n",
              "Lama Berdiri(Tahun)            -0.076354  ...              0.031239\n",
              "Kategori Usaha_Kecil            0.260279  ...             -0.958810\n",
              "Kategori Usaha_Menengah         0.243455  ...             -0.256451\n",
              "Kategori Usaha_Mikro           -0.320860  ...              1.000000\n",
              "\n",
              "[7 rows x 7 columns]"
            ]
          },
          "metadata": {
            "tags": []
          },
          "execution_count": 100
        }
      ]
    },
    {
      "cell_type": "code",
      "metadata": {
        "id": "148UQrowJNee",
        "colab_type": "code",
        "colab": {}
      },
      "source": [
        "from sklearn.linear_model import LinearRegression\n",
        "from sklearn.model_selection import train_test_split\n",
        "\n",
        "x = df[['Jumlah Karyawan','Aset','Lama Berdiri(Tahun)','Kategori Usaha_Kecil','Kategori Usaha_Menengah','Kategori Usaha_Mikro']]\n",
        "y = df['Omset']\n",
        "xtrain,xtest,ytrain,ytest = train_test_split(x,y, test_size=0.3)\n",
        "lr = LinearRegression()\n",
        "lr.fit(xtrain,ytrain)\n",
        "ypred = lr.predict(xtest)"
      ],
      "execution_count": 0,
      "outputs": []
    },
    {
      "cell_type": "code",
      "metadata": {
        "id": "wyG38xmjM01e",
        "colab_type": "code",
        "colab": {}
      },
      "source": [
        "from sklearn.metrics import r2_score, mean_squared_error, mean_absolute_error,max_error"
      ],
      "execution_count": 0,
      "outputs": []
    },
    {
      "cell_type": "code",
      "metadata": {
        "id": "OVssJbNXOEx4",
        "colab_type": "code",
        "colab": {
          "base_uri": "https://localhost:8080/",
          "height": 34
        },
        "outputId": "a716f6b6-9f9d-4d0f-b306-072d7046ebb5"
      },
      "source": [
        "print('Variance score: %.2f' % r2_score(ytest,ypred))"
      ],
      "execution_count": 123,
      "outputs": [
        {
          "output_type": "stream",
          "text": [
            "Variance score: 0.75\n"
          ],
          "name": "stdout"
        }
      ]
    },
    {
      "cell_type": "code",
      "metadata": {
        "id": "Z9rcfNyPObfC",
        "colab_type": "code",
        "colab": {
          "base_uri": "https://localhost:8080/",
          "height": 34
        },
        "outputId": "388c3498-7f3a-42a8-e230-c4250bf9b8ac"
      },
      "source": [
        "absolut = mean_absolute_error(ytest, ypred)\n",
        "absolut"
      ],
      "execution_count": 114,
      "outputs": [
        {
          "output_type": "execute_result",
          "data": {
            "text/plain": [
              "77411130.26844868"
            ]
          },
          "metadata": {
            "tags": []
          },
          "execution_count": 114
        }
      ]
    },
    {
      "cell_type": "code",
      "metadata": {
        "id": "3dSjALVKOtpY",
        "colab_type": "code",
        "colab": {
          "base_uri": "https://localhost:8080/",
          "height": 34
        },
        "outputId": "d04ddf28-68a5-4fa0-9796-6edafd0af19b"
      },
      "source": [
        "maxerror = max_error(ytest,ypred)\n",
        "maxerror"
      ],
      "execution_count": 116,
      "outputs": [
        {
          "output_type": "execute_result",
          "data": {
            "text/plain": [
              "4254221686.4000664"
            ]
          },
          "metadata": {
            "tags": []
          },
          "execution_count": 116
        }
      ]
    },
    {
      "cell_type": "code",
      "metadata": {
        "id": "5UlBdVvoQVzi",
        "colab_type": "code",
        "colab": {}
      },
      "source": [
        "from math import sqrt\n",
        "rmse = sqrt(mean_squared_error(ytest,ypred))\n",
        "rmse"
      ],
      "execution_count": 0,
      "outputs": []
    },
    {
      "cell_type": "code",
      "metadata": {
        "id": "FlHpe_puRJ3B",
        "colab_type": "code",
        "colab": {}
      },
      "source": [
        ""
      ],
      "execution_count": 0,
      "outputs": []
    }
  ]
}